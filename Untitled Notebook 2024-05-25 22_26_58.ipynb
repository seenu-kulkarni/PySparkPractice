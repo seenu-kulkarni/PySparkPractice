{
 "cells": [
  {
   "cell_type": "markdown",
   "metadata": {
    "application/vnd.databricks.v1+cell": {
     "cellMetadata": {},
     "inputWidgets": {},
     "nuid": "38bba647-23d2-480e-9d99-fec0e46bedc5",
     "showTitle": false,
     "title": ""
    }
   },
   "source": [
    "You have a data frame with columns Name, Location, and Skill. Some values are missing (null). Write PySpark or SQL code to replace all null values with the string \"Unknown\"."
   ]
  },
  {
   "cell_type": "code",
   "execution_count": null,
   "metadata": {
    "application/vnd.databricks.v1+cell": {
     "cellMetadata": {
      "byteLimit": 2048000,
      "rowLimit": 10000
     },
     "inputWidgets": {},
     "nuid": "d2aafdfb-4f1c-4227-99b1-3dcd8381f15f",
     "showTitle": false,
     "title": ""
    }
   },
   "outputs": [
    {
     "name": "stdout",
     "output_type": "stream",
     "text": [
      "+-------+--------+-------+\n",
      "|   Name|Location|  Skill|\n",
      "+-------+--------+-------+\n",
      "|   Aman| Unknown|  Azure|\n",
      "|Unknown|Banglore|Unknown|\n",
      "|  Gagan| Unknown| DotNet|\n",
      "+-------+--------+-------+\n",
      "\n"
     ]
    }
   ],
   "source": [
    "from pyspark.sql import SparkSession\n",
    "from pyspark.sql.functions import *\n",
    "\n",
    "\n",
    "spark = SparkSession.builder.getOrCreate()\n",
    "\n",
    "data = [\n",
    " (\"Aman\",None,\"Azure\"),\n",
    " (None,\"Banglore\",None),\n",
    " (\"Gagan\",None,\"DotNet\")\n",
    "]\n",
    "\n",
    "schema = [\"Name\",\"Location\",\"Skill\"]\n",
    "\n",
    "df = spark.createDataFrame(data,schema)\n",
    "\n",
    "df = df.withColumn(\"Name\",when(df.Name.isNull(),\"Unknown\").otherwise(df.Name))\\\n",
    "    .withColumn(\"Location\",when(df.Location.isNull(),\"Unknown\").otherwise(df.Location))\\\n",
    "        .withColumn(\"Skill\",when(df.Skill.isNull(),\"Unknown\").otherwise(df.Skill))\n",
    "df.show()\n"
   ]
  },
  {
   "cell_type": "code",
   "execution_count": null,
   "metadata": {
    "application/vnd.databricks.v1+cell": {
     "cellMetadata": {
      "byteLimit": 2048000,
      "rowLimit": 10000
     },
     "inputWidgets": {},
     "nuid": "6ccbcc3b-4822-4390-bca9-f312e9833956",
     "showTitle": false,
     "title": ""
    }
   },
   "outputs": [],
   "source": [
    "df = df.withColumn(\"Name\",when(df.Name.isNull(),\"Unknown\").otherwise(df.Name))\\\n",
    "    .withColumn(\"Location\",when(df.Location.isNull(),\"Unknown\").otherwise(df.Location))\\\n",
    "        .withColumn(\"Skill\",when(df.Skill.isNull(),\"Unknown\").otherwise(df.Skill))"
   ]
  },
  {
   "cell_type": "code",
   "execution_count": null,
   "metadata": {
    "application/vnd.databricks.v1+cell": {
     "cellMetadata": {
      "byteLimit": 2048000,
      "rowLimit": 10000
     },
     "inputWidgets": {},
     "nuid": "3c15998d-413f-41b0-8dd4-3dd504d22bf5",
     "showTitle": false,
     "title": ""
    }
   },
   "outputs": [
    {
     "name": "stdout",
     "output_type": "stream",
     "text": [
      "+-------+--------+-------+\n",
      "|   Name|Location|  Skill|\n",
      "+-------+--------+-------+\n",
      "|   Aman| Unknown|  Azure|\n",
      "|Unknown|Banglore|Unknown|\n",
      "|  Gagan| Unknown| DotNet|\n",
      "+-------+--------+-------+\n",
      "\n"
     ]
    }
   ],
   "source": [
    "df.show()"
   ]
  },
  {
   "cell_type": "code",
   "execution_count": null,
   "metadata": {
    "application/vnd.databricks.v1+cell": {
     "cellMetadata": {},
     "inputWidgets": {},
     "nuid": "b579fc37-9406-403d-bbf4-4a958e857523",
     "showTitle": false,
     "title": ""
    }
   },
   "outputs": [],
   "source": []
  }
 ],
 "metadata": {
  "application/vnd.databricks.v1+notebook": {
   "dashboards": [],
   "environmentMetadata": null,
   "language": "python",
   "notebookMetadata": {
    "pythonIndentUnit": 4
   },
   "notebookName": "Untitled Notebook 2024-05-25 22:26:58",
   "widgets": {}
  },
  "language_info": {
   "name": "python"
  }
 },
 "nbformat": 4,
 "nbformat_minor": 0
}
