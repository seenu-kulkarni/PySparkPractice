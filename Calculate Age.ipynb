{
 "cells": [
  {
   "cell_type": "markdown",
   "metadata": {
    "application/vnd.databricks.v1+cell": {
     "cellMetadata": {},
     "inputWidgets": {},
     "nuid": "a42375e8-1c08-4d47-9c3f-4dab1ebeb633",
     "showTitle": false,
     "title": ""
    }
   },
   "source": [
    "You have a DataFrame with a column DateOfBirth in yyyy-MM-dd format. Add a new column Age that calculates the age of each individual as of the current date."
   ]
  },
  {
   "cell_type": "code",
   "execution_count": 0,
   "metadata": {
    "application/vnd.databricks.v1+cell": {
     "cellMetadata": {
      "byteLimit": 2048000,
      "rowLimit": 10000
     },
     "inputWidgets": {},
     "nuid": "d54ebdae-f107-44e4-81dc-6a8a27e20a9a",
     "showTitle": false,
     "title": ""
    }
   },
   "outputs": [
    {
     "output_type": "stream",
     "name": "stdout",
     "output_type": "stream",
     "text": [
      "+----------+---+\n|       dob|age|\n+----------+---+\n|1990-01-01| 34|\n|1985-05-20| 39|\n|2000-12-15| 23|\n|2019-01-04|  5|\n+----------+---+\n\n"
     ]
    }
   ],
   "source": [
    "from pyspark.sql import SparkSession\n",
    "from pyspark.sql.functions import col, year, month, dayofmonth, current_date, when\n",
    "\n",
    "# Create a Spark session\n",
    "spark = SparkSession.builder.appName(\"Calculate Age\").getOrCreate()\n",
    "\n",
    "# Sample data\n",
    "data = [\n",
    "    (\"1990-01-01\",),\n",
    "    (\"1985-05-20\",),\n",
    "    (\"2000-12-15\",),\n",
    "    (\"2019-01-04\",)\n",
    "]\n",
    "\n",
    "# Create a DataFrame with the DOB data\n",
    "columns = [\"dob\"]\n",
    "df = spark.createDataFrame(data, columns)\n",
    "\n",
    "# Calculate the age\n",
    "df = df.withColumn(\"dob\", col(\"dob\").cast(\"date\"))  # Ensure dob column is of type date\n",
    "df = df.withColumn(\"age\", \n",
    "    year(current_date()) - year(col(\"dob\")) - \n",
    "    when(\n",
    "        (month(current_date()) < month(col(\"dob\"))) | \n",
    "        ((month(current_date()) == month(col(\"dob\"))) & (dayofmonth(current_date()) < dayofmonth(col(\"dob\")))), \n",
    "        1\n",
    "    ).otherwise(0)\n",
    ")\n",
    "\n",
    "# Show the DataFrame\n",
    "df.show()\n"
   ]
  },
  {
   "cell_type": "code",
   "execution_count": 0,
   "metadata": {
    "application/vnd.databricks.v1+cell": {
     "cellMetadata": {},
     "inputWidgets": {},
     "nuid": "12af97f0-4c0c-415e-9278-8ff7d8c0692d",
     "showTitle": false,
     "title": ""
    }
   },
   "outputs": [],
   "source": []
  }
 ],
 "metadata": {
  "application/vnd.databricks.v1+notebook": {
   "dashboards": [],
   "environmentMetadata": null,
   "language": "python",
   "notebookMetadata": {
    "pythonIndentUnit": 4
   },
   "notebookName": "Calculate Age",
   "widgets": {}
  }
 },
 "nbformat": 4,
 "nbformat_minor": 0
}
